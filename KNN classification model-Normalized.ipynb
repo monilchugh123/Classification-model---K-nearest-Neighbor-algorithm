{
 "cells": [
  {
   "cell_type": "markdown",
   "id": "019e25c2",
   "metadata": {},
   "source": [
    "# PR Assignment -5 KNN classification model(with Normalizing MinMaxScaler)"
   ]
  },
  {
   "cell_type": "code",
   "execution_count": 1,
   "id": "1c390a90",
   "metadata": {},
   "outputs": [],
   "source": [
    "#importing libraries\n",
    "import pandas as pd\n",
    "import numpy as np\n",
    "from sklearn.model_selection import train_test_split\n",
    "from sklearn.metrics import accuracy_score"
   ]
  },
  {
   "cell_type": "code",
   "execution_count": 2,
   "id": "0d39a893",
   "metadata": {},
   "outputs": [],
   "source": [
    "# importing data from txt file into dataframe\n",
    "df = pd.read_csv(\"D:/ISIBangalore/MS-QMScourse/2nd sem/Pattern Recognition/Assignment-4/Vowel Data.txt\", sep = '\\s+', header=None, names=['class','x1','x2','x3'])"
   ]
  },
  {
   "cell_type": "code",
   "execution_count": 3,
   "id": "567ef537",
   "metadata": {},
   "outputs": [],
   "source": [
    "df.iloc[:,1:4] = (df.iloc[:,1:4] - df.iloc[:,1:4].min())/(df.iloc[:,1:4].max() - df.iloc[:,1:4].min())"
   ]
  },
  {
   "cell_type": "code",
   "execution_count": 4,
   "id": "49013072",
   "metadata": {},
   "outputs": [],
   "source": [
    "# grouping data classwise\n",
    "dflist = list(df.groupby('class'))"
   ]
  },
  {
   "cell_type": "code",
   "execution_count": 5,
   "id": "0ef009e6",
   "metadata": {},
   "outputs": [],
   "source": [
    "# segregating dataframe class wise\n",
    "df1 = dflist[0][1]\n",
    "df2 = dflist[1][1]\n",
    "df3 = dflist[2][1]\n",
    "df4 = dflist[3][1]\n",
    "df5 = dflist[4][1]\n",
    "df6 = dflist[5][1]"
   ]
  },
  {
   "cell_type": "code",
   "execution_count": 6,
   "id": "448779a0",
   "metadata": {},
   "outputs": [],
   "source": [
    "# segregating input features and output feature for each class\n",
    "df1_x = df1.drop(columns=['class'])\n",
    "df1_y = df1.iloc[:,0]\n",
    "df2_x = df2.drop(columns=['class'])\n",
    "df2_y = df2.iloc[:,0]\n",
    "df3_x = df3.drop(columns=['class'])\n",
    "df3_y = df3.iloc[:,0]\n",
    "df4_x = df4.drop(columns=['class'])\n",
    "df4_y = df4.iloc[:,0]\n",
    "df5_x = df5.drop(columns=['class'])\n",
    "df5_y = df5.iloc[:,0]\n",
    "df6_x = df6.drop(columns=['class'])\n",
    "df6_y = df6.iloc[:,0]"
   ]
  },
  {
   "cell_type": "code",
   "execution_count": 7,
   "id": "f948fb4b",
   "metadata": {},
   "outputs": [],
   "source": [
    "knn = [5, 7, 9, 11]\n",
    "index_list = ['k=5', 'k=7', 'k=9', 'k=11']\n",
    "data_list = []\n",
    "for k in knn:\n",
    "    testsize = [0.1, 0.2, 0.3, 0.4]\n",
    "    acc_table_train = np.empty((4, 10))\n",
    "    acc_table_test = np.empty((4, 10))\n",
    "    for i in range(4):\n",
    "        for j in range(10):\n",
    "            # splitting each data frame into training and test data\n",
    "            df1_x_train, df1_x_test, df1_y_train, df1_y_test = train_test_split(df1_x, df1_y, test_size = testsize[i])\n",
    "            df2_x_train, df2_x_test, df2_y_train, df2_y_test = train_test_split(df2_x, df2_y, test_size = testsize[i])\n",
    "            df3_x_train, df3_x_test, df3_y_train, df3_y_test = train_test_split(df3_x, df3_y, test_size = testsize[i])\n",
    "            df4_x_train, df4_x_test, df4_y_train, df4_y_test = train_test_split(df4_x, df4_y, test_size = testsize[i])\n",
    "            df5_x_train, df5_x_test, df5_y_train, df5_y_test = train_test_split(df5_x, df5_y, test_size = testsize[i])\n",
    "            df6_x_train, df6_x_test, df6_y_train, df6_y_test = train_test_split(df6_x, df6_y, test_size = testsize[i])\n",
    "            # combining training and test data from each class\n",
    "            x_train = pd.concat([df1_x_train, df2_x_train, df3_x_train, df4_x_train, df5_x_train, df6_x_train], axis=0)\n",
    "            y_train = pd.concat([df1_y_train, df2_y_train, df3_y_train, df4_y_train, df5_y_train, df6_y_train], axis=0)\n",
    "            x_test = pd.concat([df1_x_test, df2_x_test, df3_x_test, df4_x_test, df5_x_test, df6_x_test], axis=0)\n",
    "            y_test = pd.concat([df1_y_test, df2_y_test, df3_y_test, df4_y_test, df5_y_test, df6_y_test], axis=0)\n",
    "            # converting training & test input features dataframe to array form\n",
    "            x_train_arr = x_train.to_numpy()\n",
    "            x_test_arr = x_test.to_numpy()\n",
    "            y_train_arr = y_train.to_numpy()\n",
    "            y_test_arr = y_test.to_numpy()\n",
    "#             #no of nearest neighbours we are considering here\n",
    "#             k=11\n",
    "#             # predicting output class for training data\n",
    "#             y_pred_train = []\n",
    "#             for m in range(x_train.shape[0]):\n",
    "#                 dist= []\n",
    "#                 for l in range(x_train.shape[0]):\n",
    "#                     dist.append(np.linalg.norm(x_train_arr[m] - x_train_arr[l]))\n",
    "#                 dist_df = pd.DataFrame({'dist': dist, 'class':y_train_arr})\n",
    "#                 dist_df = dist_df.sort_values(by='dist')\n",
    "#                 dist_df = dist_df.iloc[0:k]\n",
    "#                 y_pred_train.append(list(dist_df['class'].mode())[0])\n",
    "#             ypred_train = np.array(y_pred_train)\n",
    "#             acc_table_train[i][j] = accuracy_score(y_train_arr, ypred_train)\n",
    "\n",
    "            # predicting output class for test data\n",
    "            y_pred_test = []   \n",
    "            for m in range(x_test.shape[0]):\n",
    "                dist= []\n",
    "                for l in range(x_train.shape[0]):\n",
    "                    dist.append(np.linalg.norm(x_test_arr[m] - x_train_arr[l]))\n",
    "                dist_df = pd.DataFrame({'dist': dist, 'class':y_train_arr})\n",
    "                dist_df = dist_df.sort_values(by='dist')\n",
    "                dist_df = dist_df.iloc[0:k]\n",
    "                y_pred_test.append(list(dist_df['class'].mode())[0])\n",
    "            ypred_test = np.array(y_pred_test)\n",
    "            acc_table_test[i][j] = accuracy_score(y_test_arr, ypred_test)\n",
    "\n",
    "    #acc_table_train_df = pd.DataFrame(np.transpose(np.round(acc_table_train*100,2)), columns=['90-10', '80-20', '70-30', '60-40'], index=['1st','2nd','3rd','4th','5th','6th','7th','8th','9th','10th'])\n",
    "    acc_table_test_df  = pd.DataFrame(np.transpose(np.round(acc_table_test*100, 2)), columns=['90-10', '80-20', '70-30', '60-40'], index=['1st','2nd','3rd','4th','5th','6th','7th','8th','9th','10th'])\n",
    "    acc_table_test_df.loc['Mean acc_test'] = acc_table_test_df.mean()\n",
    "    data_list.append(acc_table_test_df.loc['Mean acc_test'])"
   ]
  },
  {
   "cell_type": "code",
   "execution_count": 8,
   "id": "b4432334",
   "metadata": {},
   "outputs": [],
   "source": [
    "# acc_table_train_df.loc['Mean acc_train'] = acc_table_train_df.mean()\n",
    "# acc_table_train_df"
   ]
  },
  {
   "cell_type": "code",
   "execution_count": 9,
   "id": "723b814e",
   "metadata": {},
   "outputs": [],
   "source": [
    "# acc_table_test_df.loc['Mean acc_test'] = acc_table_test_df.mean()\n",
    "# acc_table_test_df"
   ]
  },
  {
   "cell_type": "code",
   "execution_count": 10,
   "id": "701de631",
   "metadata": {},
   "outputs": [],
   "source": [
    "# pd.concat([acc_table_train_df.iloc[[10]], acc_table_test_df.iloc[[10]]], axis = 0).to_csv('D:/ISIBangalore/MS-QMScourse/2nd sem/Pattern Recognition/Assignment-5/k_11_accuracy table_KNN_Normalized.csv', sep=',', header=True, index=True)"
   ]
  },
  {
   "cell_type": "code",
   "execution_count": 11,
   "id": "844e382e",
   "metadata": {},
   "outputs": [],
   "source": [
    "df_final = pd.DataFrame(data_list)\n",
    "df_final.index = index_list\n",
    "df_final\n",
    "df_final.to_csv('D:/ISIBangalore/MS-QMScourse/2nd sem/Pattern Recognition/Assignment-5/accuracy table_KNN_Normalized.csv', sep=',', header=True, index=True)"
   ]
  },
  {
   "cell_type": "code",
   "execution_count": null,
   "id": "b1df7616",
   "metadata": {},
   "outputs": [],
   "source": []
  }
 ],
 "metadata": {
  "kernelspec": {
   "display_name": "Python 3 (ipykernel)",
   "language": "python",
   "name": "python3"
  },
  "language_info": {
   "codemirror_mode": {
    "name": "ipython",
    "version": 3
   },
   "file_extension": ".py",
   "mimetype": "text/x-python",
   "name": "python",
   "nbconvert_exporter": "python",
   "pygments_lexer": "ipython3",
   "version": "3.11.4"
  }
 },
 "nbformat": 4,
 "nbformat_minor": 5
}
