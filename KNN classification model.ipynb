{
 "cells": [
  {
   "cell_type": "markdown",
   "id": "019e25c2",
   "metadata": {},
   "source": [
    "# PR Assignment -5 KNN classification model"
   ]
  },
  {
   "cell_type": "code",
   "execution_count": 1,
   "id": "1c390a90",
   "metadata": {},
   "outputs": [],
   "source": [
    "#importing libraries\n",
    "import pandas as pd\n",
    "import numpy as np\n",
    "from sklearn.model_selection import train_test_split\n",
    "from sklearn.metrics import accuracy_score"
   ]
  },
  {
   "cell_type": "code",
   "execution_count": 2,
   "id": "0d39a893",
   "metadata": {},
   "outputs": [],
   "source": [
    "# importing data from txt file into dataframe\n",
    "df = pd.read_csv(\"D:/ISIBangalore/MS-QMScourse/2nd sem/Pattern Recognition/Assignment-5/Vowel Data.txt\", sep = '\\s+', header=None, names=['class','x1','x2','x3'])"
   ]
  },
  {
   "cell_type": "code",
   "execution_count": 3,
   "id": "49013072",
   "metadata": {},
   "outputs": [],
   "source": [
    "# grouping data classwise\n",
    "dflist = list(df.groupby('class'))"
   ]
  },
  {
   "cell_type": "code",
   "execution_count": 4,
   "id": "0ef009e6",
   "metadata": {},
   "outputs": [],
   "source": [
    "# segregating dataframe class wise\n",
    "df1 = dflist[0][1]\n",
    "df2 = dflist[1][1]\n",
    "df3 = dflist[2][1]\n",
    "df4 = dflist[3][1]\n",
    "df5 = dflist[4][1]\n",
    "df6 = dflist[5][1]"
   ]
  },
  {
   "cell_type": "code",
   "execution_count": 5,
   "id": "448779a0",
   "metadata": {},
   "outputs": [],
   "source": [
    "# segregating input features and output feature for each class\n",
    "df1_x = df1.drop(columns=['class'])\n",
    "df1_y = df1.iloc[:,0]\n",
    "df2_x = df2.drop(columns=['class'])\n",
    "df2_y = df2.iloc[:,0]\n",
    "df3_x = df3.drop(columns=['class'])\n",
    "df3_y = df3.iloc[:,0]\n",
    "df4_x = df4.drop(columns=['class'])\n",
    "df4_y = df4.iloc[:,0]\n",
    "df5_x = df5.drop(columns=['class'])\n",
    "df5_y = df5.iloc[:,0]\n",
    "df6_x = df6.drop(columns=['class'])\n",
    "df6_y = df6.iloc[:,0]"
   ]
  },
  {
   "cell_type": "code",
   "execution_count": 6,
   "id": "f948fb4b",
   "metadata": {},
   "outputs": [
    {
     "ename": "TypeError",
     "evalue": "concat() got an unexpected keyword argument 'index'",
     "output_type": "error",
     "traceback": [
      "\u001b[1;31m---------------------------------------------------------------------------\u001b[0m",
      "\u001b[1;31mTypeError\u001b[0m                                 Traceback (most recent call last)",
      "Cell \u001b[1;32mIn[6], line 60\u001b[0m\n\u001b[0;32m     57\u001b[0m     acc_table_test_df\u001b[38;5;241m.\u001b[39mloc[\u001b[38;5;124m'\u001b[39m\u001b[38;5;124mMean acc_test\u001b[39m\u001b[38;5;124m'\u001b[39m] \u001b[38;5;241m=\u001b[39m acc_table_test_df\u001b[38;5;241m.\u001b[39mmean()\n\u001b[0;32m     58\u001b[0m     data_list\u001b[38;5;241m.\u001b[39mappend(acc_table_test_df\u001b[38;5;241m.\u001b[39mloc[\u001b[38;5;124m'\u001b[39m\u001b[38;5;124mMean acc_test\u001b[39m\u001b[38;5;124m'\u001b[39m])\n\u001b[1;32m---> 60\u001b[0m df_final \u001b[38;5;241m=\u001b[39m pd\u001b[38;5;241m.\u001b[39mconcat(data_list, index \u001b[38;5;241m=\u001b[39m index_list)\n",
      "File \u001b[1;32m~\\anaconda3\\Lib\\site-packages\\pandas\\util\\_decorators.py:331\u001b[0m, in \u001b[0;36mdeprecate_nonkeyword_arguments.<locals>.decorate.<locals>.wrapper\u001b[1;34m(*args, **kwargs)\u001b[0m\n\u001b[0;32m    325\u001b[0m \u001b[38;5;28;01mif\u001b[39;00m \u001b[38;5;28mlen\u001b[39m(args) \u001b[38;5;241m>\u001b[39m num_allow_args:\n\u001b[0;32m    326\u001b[0m     warnings\u001b[38;5;241m.\u001b[39mwarn(\n\u001b[0;32m    327\u001b[0m         msg\u001b[38;5;241m.\u001b[39mformat(arguments\u001b[38;5;241m=\u001b[39m_format_argument_list(allow_args)),\n\u001b[0;32m    328\u001b[0m         \u001b[38;5;167;01mFutureWarning\u001b[39;00m,\n\u001b[0;32m    329\u001b[0m         stacklevel\u001b[38;5;241m=\u001b[39mfind_stack_level(),\n\u001b[0;32m    330\u001b[0m     )\n\u001b[1;32m--> 331\u001b[0m \u001b[38;5;28;01mreturn\u001b[39;00m func(\u001b[38;5;241m*\u001b[39margs, \u001b[38;5;241m*\u001b[39m\u001b[38;5;241m*\u001b[39mkwargs)\n",
      "\u001b[1;31mTypeError\u001b[0m: concat() got an unexpected keyword argument 'index'"
     ]
    }
   ],
   "source": [
    "knn = [5, 7, 9, 11]\n",
    "index_list = ['k=5', 'k=7', 'k=9', 'k=11']\n",
    "data_list = []\n",
    "for k in knn:\n",
    "    testsize = [0.1, 0.2, 0.3, 0.4]\n",
    "    acc_table_train = np.empty((4, 10))\n",
    "    acc_table_test = np.empty((4, 10))\n",
    "    for i in range(4):\n",
    "        for j in range(10):\n",
    "            # splitting each data frame into training and test data\n",
    "            df1_x_train, df1_x_test, df1_y_train, df1_y_test = train_test_split(df1_x, df1_y, test_size = testsize[i])\n",
    "            df2_x_train, df2_x_test, df2_y_train, df2_y_test = train_test_split(df2_x, df2_y, test_size = testsize[i])\n",
    "            df3_x_train, df3_x_test, df3_y_train, df3_y_test = train_test_split(df3_x, df3_y, test_size = testsize[i])\n",
    "            df4_x_train, df4_x_test, df4_y_train, df4_y_test = train_test_split(df4_x, df4_y, test_size = testsize[i])\n",
    "            df5_x_train, df5_x_test, df5_y_train, df5_y_test = train_test_split(df5_x, df5_y, test_size = testsize[i])\n",
    "            df6_x_train, df6_x_test, df6_y_train, df6_y_test = train_test_split(df6_x, df6_y, test_size = testsize[i])\n",
    "            # combining training and test data from each class\n",
    "            x_train = pd.concat([df1_x_train, df2_x_train, df3_x_train, df4_x_train, df5_x_train, df6_x_train], axis=0)\n",
    "            y_train = pd.concat([df1_y_train, df2_y_train, df3_y_train, df4_y_train, df5_y_train, df6_y_train], axis=0)\n",
    "            x_test = pd.concat([df1_x_test, df2_x_test, df3_x_test, df4_x_test, df5_x_test, df6_x_test], axis=0)\n",
    "            y_test = pd.concat([df1_y_test, df2_y_test, df3_y_test, df4_y_test, df5_y_test, df6_y_test], axis=0)\n",
    "            # converting training & test input features dataframe to array form\n",
    "            x_train_arr = x_train.to_numpy()\n",
    "            x_test_arr = x_test.to_numpy()\n",
    "            y_train_arr = y_train.to_numpy()\n",
    "            y_test_arr = y_test.to_numpy()\n",
    "    #         #no of nearest neighbours we are considering here\n",
    "    #         k=11\n",
    "    #         # predicting output class for training data\n",
    "    #         y_pred_train = []\n",
    "    #         for m in range(x_train.shape[0]):\n",
    "    #             dist= []\n",
    "    #             for l in range(x_train.shape[0]):\n",
    "    #                 dist.append(np.linalg.norm(x_train_arr[m] - x_train_arr[l]))\n",
    "    #             dist_df = pd.DataFrame({'dist': dist, 'class':y_train_arr})\n",
    "    #             dist_df = dist_df.sort_values(by='dist')\n",
    "    #             dist_df = dist_df.iloc[0:k]\n",
    "    #             y_pred_train.append(list(dist_df['class'].mode())[0])\n",
    "    #         ypred_train = np.array(y_pred_train)\n",
    "    #         acc_table_train[i][j] = accuracy_score(y_train_arr, ypred_train)\n",
    "\n",
    "            # predicting output class for test data\n",
    "            y_pred_test = []   \n",
    "            for m in range(x_test.shape[0]):\n",
    "                dist= []\n",
    "                for l in range(x_train.shape[0]):\n",
    "                    dist.append(np.linalg.norm(x_test_arr[m] - x_train_arr[l]))\n",
    "                dist_df = pd.DataFrame({'dist': dist, 'class':y_train_arr})\n",
    "                dist_df = dist_df.sort_values(by='dist')\n",
    "                dist_df = dist_df.iloc[0:k]\n",
    "                y_pred_test.append(list(dist_df['class'].mode())[0])\n",
    "            ypred_test = np.array(y_pred_test)\n",
    "            acc_table_test[i][j] = accuracy_score(y_test_arr, ypred_test)\n",
    "\n",
    "    # acc_table_train_df = pd.DataFrame(np.transpose(np.round(acc_table_train*100,2)), columns=['90-10', '80-20', '70-30', '60-40'], index=['1st','2nd','3rd','4th','5th','6th','7th','8th','9th','10th'])\n",
    "    acc_table_test_df  = pd.DataFrame(np.transpose(np.round(acc_table_test*100, 2)), columns=['90-10', '80-20', '70-30', '60-40'], index=['1st','2nd','3rd','4th','5th','6th','7th','8th','9th','10th'])\n",
    "    acc_table_test_df.loc['Mean acc_test'] = acc_table_test_df.mean()\n",
    "    data_list.append(acc_table_test_df.loc['Mean acc_test'])"
   ]
  },
  {
   "cell_type": "code",
   "execution_count": 11,
   "id": "b8c74619",
   "metadata": {},
   "outputs": [
    {
     "data": {
      "text/html": [
       "<div>\n",
       "<style scoped>\n",
       "    .dataframe tbody tr th:only-of-type {\n",
       "        vertical-align: middle;\n",
       "    }\n",
       "\n",
       "    .dataframe tbody tr th {\n",
       "        vertical-align: top;\n",
       "    }\n",
       "\n",
       "    .dataframe thead th {\n",
       "        text-align: right;\n",
       "    }\n",
       "</style>\n",
       "<table border=\"1\" class=\"dataframe\">\n",
       "  <thead>\n",
       "    <tr style=\"text-align: right;\">\n",
       "      <th></th>\n",
       "      <th>90-10</th>\n",
       "      <th>80-20</th>\n",
       "      <th>70-30</th>\n",
       "      <th>60-40</th>\n",
       "    </tr>\n",
       "  </thead>\n",
       "  <tbody>\n",
       "    <tr>\n",
       "      <th>k=5</th>\n",
       "      <td>86.001</td>\n",
       "      <td>85.313</td>\n",
       "      <td>86.099</td>\n",
       "      <td>85.200</td>\n",
       "    </tr>\n",
       "    <tr>\n",
       "      <th>k=7</th>\n",
       "      <td>84.445</td>\n",
       "      <td>85.765</td>\n",
       "      <td>85.454</td>\n",
       "      <td>85.600</td>\n",
       "    </tr>\n",
       "    <tr>\n",
       "      <th>k=9</th>\n",
       "      <td>85.222</td>\n",
       "      <td>86.329</td>\n",
       "      <td>85.871</td>\n",
       "      <td>85.514</td>\n",
       "    </tr>\n",
       "    <tr>\n",
       "      <th>k=11</th>\n",
       "      <td>87.334</td>\n",
       "      <td>84.465</td>\n",
       "      <td>84.092</td>\n",
       "      <td>83.943</td>\n",
       "    </tr>\n",
       "  </tbody>\n",
       "</table>\n",
       "</div>"
      ],
      "text/plain": [
       "       90-10   80-20   70-30   60-40\n",
       "k=5   86.001  85.313  86.099  85.200\n",
       "k=7   84.445  85.765  85.454  85.600\n",
       "k=9   85.222  86.329  85.871  85.514\n",
       "k=11  87.334  84.465  84.092  83.943"
      ]
     },
     "execution_count": 11,
     "metadata": {},
     "output_type": "execute_result"
    }
   ],
   "source": [
    "df_final = pd.DataFrame(data_list)\n",
    "df_final.index = index_list\n",
    "df_final"
   ]
  },
  {
   "cell_type": "code",
   "execution_count": 13,
   "id": "65c0b1ef",
   "metadata": {},
   "outputs": [],
   "source": [
    "# acc_table_train_df.loc['Mean acc_train'] = acc_table_train_df.mean()\n",
    "# acc_table_train_df"
   ]
  },
  {
   "cell_type": "code",
   "execution_count": 14,
   "id": "723b814e",
   "metadata": {},
   "outputs": [],
   "source": [
    "# acc_table_test_df.loc['Mean acc_test'] = acc_table_test_df.mean()\n",
    "# acc_table_test_df"
   ]
  },
  {
   "cell_type": "code",
   "execution_count": 15,
   "id": "701de631",
   "metadata": {},
   "outputs": [],
   "source": [
    "# pd.concat([acc_table_train_df.iloc[[10]], acc_table_test_df.iloc[[10]]], axis = 0).to_csv('D:/ISIBangalore/MS-QMScourse/2nd sem/Pattern Recognition/Assignment-5/k_11_accuracy table_KNN.csv', sep=',', header=True, index=True)"
   ]
  },
  {
   "cell_type": "code",
   "execution_count": 12,
   "id": "d5f94691",
   "metadata": {},
   "outputs": [],
   "source": [
    "df_final.to_csv('D:/ISIBangalore/MS-QMScourse/2nd sem/Pattern Recognition/Assignment-5/accuracy table_KNN.csv', sep=',', header=True, index=True)"
   ]
  },
  {
   "cell_type": "code",
   "execution_count": null,
   "id": "e19fee3b",
   "metadata": {},
   "outputs": [],
   "source": []
  }
 ],
 "metadata": {
  "kernelspec": {
   "display_name": "Python 3 (ipykernel)",
   "language": "python",
   "name": "python3"
  },
  "language_info": {
   "codemirror_mode": {
    "name": "ipython",
    "version": 3
   },
   "file_extension": ".py",
   "mimetype": "text/x-python",
   "name": "python",
   "nbconvert_exporter": "python",
   "pygments_lexer": "ipython3",
   "version": "3.11.4"
  }
 },
 "nbformat": 4,
 "nbformat_minor": 5
}
